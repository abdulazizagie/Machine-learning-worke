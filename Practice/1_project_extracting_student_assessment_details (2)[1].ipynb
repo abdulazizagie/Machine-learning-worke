{
 "cells": [
  {
   "cell_type": "code",
   "execution_count": 1,
   "metadata": {},
   "outputs": [],
   "source": [
    "import numpy as np\n",
    "import pandas as pd\n",
    "import  matplotlib.pyplot as plt\n",
    "import seaborn as sns"
   ]
  },
  {
   "cell_type": "code",
   "execution_count": 2,
   "metadata": {},
   "outputs": [],
   "source": [
    "df =pd.read_csv(\"survey_results_public.csv\")"
   ]
  },
  {
   "cell_type": "code",
   "execution_count": 3,
   "metadata": {},
   "outputs": [
    {
     "data": {
      "text/html": [
       "<div>\n",
       "<style scoped>\n",
       "    .dataframe tbody tr th:only-of-type {\n",
       "        vertical-align: middle;\n",
       "    }\n",
       "\n",
       "    .dataframe tbody tr th {\n",
       "        vertical-align: top;\n",
       "    }\n",
       "\n",
       "    .dataframe thead th {\n",
       "        text-align: right;\n",
       "    }\n",
       "</style>\n",
       "<table border=\"1\" class=\"dataframe\">\n",
       "  <thead>\n",
       "    <tr style=\"text-align: right;\">\n",
       "      <th></th>\n",
       "      <th>Respondent</th>\n",
       "      <th>MainBranch</th>\n",
       "      <th>Hobbyist</th>\n",
       "      <th>Age</th>\n",
       "      <th>Age1stCode</th>\n",
       "      <th>CompFreq</th>\n",
       "      <th>CompTotal</th>\n",
       "      <th>ConvertedComp</th>\n",
       "      <th>Country</th>\n",
       "      <th>CurrencyDesc</th>\n",
       "      <th>...</th>\n",
       "      <th>SurveyEase</th>\n",
       "      <th>SurveyLength</th>\n",
       "      <th>Trans</th>\n",
       "      <th>UndergradMajor</th>\n",
       "      <th>WebframeDesireNextYear</th>\n",
       "      <th>WebframeWorkedWith</th>\n",
       "      <th>WelcomeChange</th>\n",
       "      <th>WorkWeekHrs</th>\n",
       "      <th>YearsCode</th>\n",
       "      <th>YearsCodePro</th>\n",
       "    </tr>\n",
       "  </thead>\n",
       "  <tbody>\n",
       "    <tr>\n",
       "      <th>50822</th>\n",
       "      <td>51873</td>\n",
       "      <td>I am a student who is learning to code</td>\n",
       "      <td>Yes</td>\n",
       "      <td>NaN</td>\n",
       "      <td>17</td>\n",
       "      <td>NaN</td>\n",
       "      <td>NaN</td>\n",
       "      <td>NaN</td>\n",
       "      <td>India</td>\n",
       "      <td>NaN</td>\n",
       "      <td>...</td>\n",
       "      <td>Neither easy nor difficult</td>\n",
       "      <td>Too short</td>\n",
       "      <td>No</td>\n",
       "      <td>NaN</td>\n",
       "      <td>Laravel;Spring</td>\n",
       "      <td>Angular;Drupal;Flask</td>\n",
       "      <td>NaN</td>\n",
       "      <td>NaN</td>\n",
       "      <td>1</td>\n",
       "      <td>NaN</td>\n",
       "    </tr>\n",
       "    <tr>\n",
       "      <th>16888</th>\n",
       "      <td>16948</td>\n",
       "      <td>I am a developer by profession</td>\n",
       "      <td>Yes</td>\n",
       "      <td>37.0</td>\n",
       "      <td>7</td>\n",
       "      <td>Yearly</td>\n",
       "      <td>28000.0</td>\n",
       "      <td>30267.0</td>\n",
       "      <td>Ireland</td>\n",
       "      <td>European Euro</td>\n",
       "      <td>...</td>\n",
       "      <td>Easy</td>\n",
       "      <td>Appropriate in length</td>\n",
       "      <td>No</td>\n",
       "      <td>Fine arts or performing arts (such as graphic ...</td>\n",
       "      <td>Express;React.js</td>\n",
       "      <td>React.js</td>\n",
       "      <td>Just as welcome now as I felt last year</td>\n",
       "      <td>40.0</td>\n",
       "      <td>2</td>\n",
       "      <td>1</td>\n",
       "    </tr>\n",
       "    <tr>\n",
       "      <th>20122</th>\n",
       "      <td>20202</td>\n",
       "      <td>I am a developer by profession</td>\n",
       "      <td>No</td>\n",
       "      <td>NaN</td>\n",
       "      <td>31</td>\n",
       "      <td>Monthly</td>\n",
       "      <td>1400000.0</td>\n",
       "      <td>556776.0</td>\n",
       "      <td>Taiwan</td>\n",
       "      <td>New Taiwan dollar</td>\n",
       "      <td>...</td>\n",
       "      <td>Neither easy nor difficult</td>\n",
       "      <td>Too short</td>\n",
       "      <td>No</td>\n",
       "      <td>Another engineering discipline (such as civil,...</td>\n",
       "      <td>React.js</td>\n",
       "      <td>jQuery</td>\n",
       "      <td>Just as welcome now as I felt last year</td>\n",
       "      <td>40.0</td>\n",
       "      <td>12</td>\n",
       "      <td>6</td>\n",
       "    </tr>\n",
       "    <tr>\n",
       "      <th>8214</th>\n",
       "      <td>8246</td>\n",
       "      <td>I am a developer by profession</td>\n",
       "      <td>Yes</td>\n",
       "      <td>26.0</td>\n",
       "      <td>17</td>\n",
       "      <td>Yearly</td>\n",
       "      <td>570000.0</td>\n",
       "      <td>7958.0</td>\n",
       "      <td>India</td>\n",
       "      <td>Indian rupee</td>\n",
       "      <td>...</td>\n",
       "      <td>Neither easy nor difficult</td>\n",
       "      <td>Too long</td>\n",
       "      <td>NaN</td>\n",
       "      <td>Computer science, computer engineering, or sof...</td>\n",
       "      <td>NaN</td>\n",
       "      <td>NaN</td>\n",
       "      <td>Somewhat more welcome now than last year</td>\n",
       "      <td>35.0</td>\n",
       "      <td>9</td>\n",
       "      <td>5</td>\n",
       "    </tr>\n",
       "    <tr>\n",
       "      <th>3115</th>\n",
       "      <td>3129</td>\n",
       "      <td>I am a developer by profession</td>\n",
       "      <td>No</td>\n",
       "      <td>NaN</td>\n",
       "      <td>NaN</td>\n",
       "      <td>Yearly</td>\n",
       "      <td>45000.0</td>\n",
       "      <td>34034.0</td>\n",
       "      <td>Canada</td>\n",
       "      <td>Canadian dollar</td>\n",
       "      <td>...</td>\n",
       "      <td>Easy</td>\n",
       "      <td>Appropriate in length</td>\n",
       "      <td>No</td>\n",
       "      <td>Information systems, information technology, o...</td>\n",
       "      <td>jQuery</td>\n",
       "      <td>jQuery</td>\n",
       "      <td>Somewhat less welcome now than last year</td>\n",
       "      <td>40.0</td>\n",
       "      <td>NaN</td>\n",
       "      <td>NaN</td>\n",
       "    </tr>\n",
       "  </tbody>\n",
       "</table>\n",
       "<p>5 rows × 61 columns</p>\n",
       "</div>"
      ],
      "text/plain": [
       "       Respondent                              MainBranch Hobbyist   Age  \\\n",
       "50822       51873  I am a student who is learning to code      Yes   NaN   \n",
       "16888       16948          I am a developer by profession      Yes  37.0   \n",
       "20122       20202          I am a developer by profession       No   NaN   \n",
       "8214         8246          I am a developer by profession      Yes  26.0   \n",
       "3115         3129          I am a developer by profession       No   NaN   \n",
       "\n",
       "      Age1stCode CompFreq  CompTotal  ConvertedComp  Country  \\\n",
       "50822         17      NaN        NaN            NaN    India   \n",
       "16888          7   Yearly    28000.0        30267.0  Ireland   \n",
       "20122         31  Monthly  1400000.0       556776.0   Taiwan   \n",
       "8214          17   Yearly   570000.0         7958.0    India   \n",
       "3115         NaN   Yearly    45000.0        34034.0   Canada   \n",
       "\n",
       "            CurrencyDesc  ...                  SurveyEase  \\\n",
       "50822                NaN  ...  Neither easy nor difficult   \n",
       "16888      European Euro  ...                        Easy   \n",
       "20122  New Taiwan dollar  ...  Neither easy nor difficult   \n",
       "8214        Indian rupee  ...  Neither easy nor difficult   \n",
       "3115     Canadian dollar  ...                        Easy   \n",
       "\n",
       "                SurveyLength Trans  \\\n",
       "50822              Too short    No   \n",
       "16888  Appropriate in length    No   \n",
       "20122              Too short    No   \n",
       "8214                Too long   NaN   \n",
       "3115   Appropriate in length    No   \n",
       "\n",
       "                                          UndergradMajor  \\\n",
       "50822                                                NaN   \n",
       "16888  Fine arts or performing arts (such as graphic ...   \n",
       "20122  Another engineering discipline (such as civil,...   \n",
       "8214   Computer science, computer engineering, or sof...   \n",
       "3115   Information systems, information technology, o...   \n",
       "\n",
       "      WebframeDesireNextYear    WebframeWorkedWith  \\\n",
       "50822         Laravel;Spring  Angular;Drupal;Flask   \n",
       "16888       Express;React.js              React.js   \n",
       "20122               React.js                jQuery   \n",
       "8214                     NaN                   NaN   \n",
       "3115                  jQuery                jQuery   \n",
       "\n",
       "                                  WelcomeChange WorkWeekHrs YearsCode  \\\n",
       "50822                                       NaN         NaN         1   \n",
       "16888   Just as welcome now as I felt last year        40.0         2   \n",
       "20122   Just as welcome now as I felt last year        40.0        12   \n",
       "8214   Somewhat more welcome now than last year        35.0         9   \n",
       "3115   Somewhat less welcome now than last year        40.0       NaN   \n",
       "\n",
       "      YearsCodePro  \n",
       "50822          NaN  \n",
       "16888            1  \n",
       "20122            6  \n",
       "8214             5  \n",
       "3115           NaN  \n",
       "\n",
       "[5 rows x 61 columns]"
      ]
     },
     "execution_count": 3,
     "metadata": {},
     "output_type": "execute_result"
    }
   ],
   "source": [
    "df.sample(5)"
   ]
  },
  {
   "cell_type": "code",
   "execution_count": 4,
   "metadata": {},
   "outputs": [
    {
     "name": "stdout",
     "output_type": "stream",
     "text": [
      "<class 'pandas.core.frame.DataFrame'>\n",
      "RangeIndex: 64461 entries, 0 to 64460\n",
      "Data columns (total 61 columns):\n",
      " #   Column                        Non-Null Count  Dtype  \n",
      "---  ------                        --------------  -----  \n",
      " 0   Respondent                    64461 non-null  int64  \n",
      " 1   MainBranch                    64162 non-null  object \n",
      " 2   Hobbyist                      64416 non-null  object \n",
      " 3   Age                           45446 non-null  float64\n",
      " 4   Age1stCode                    57900 non-null  object \n",
      " 5   CompFreq                      40069 non-null  object \n",
      " 6   CompTotal                     34826 non-null  float64\n",
      " 7   ConvertedComp                 34756 non-null  float64\n",
      " 8   Country                       64072 non-null  object \n",
      " 9   CurrencyDesc                  45472 non-null  object \n",
      " 10  CurrencySymbol                45472 non-null  object \n",
      " 11  DatabaseDesireNextYear        44070 non-null  object \n",
      " 12  DatabaseWorkedWith            49537 non-null  object \n",
      " 13  DevType                       49370 non-null  object \n",
      " 14  EdLevel                       57431 non-null  object \n",
      " 15  Employment                    63854 non-null  object \n",
      " 16  Ethnicity                     45948 non-null  object \n",
      " 17  Gender                        50557 non-null  object \n",
      " 18  JobFactors                    49349 non-null  object \n",
      " 19  JobSat                        45194 non-null  object \n",
      " 20  JobSeek                       51727 non-null  object \n",
      " 21  LanguageDesireNextYear        54113 non-null  object \n",
      " 22  LanguageWorkedWith            57378 non-null  object \n",
      " 23  MiscTechDesireNextYear        42379 non-null  object \n",
      " 24  MiscTechWorkedWith            40314 non-null  object \n",
      " 25  NEWCollabToolsDesireNextYear  47287 non-null  object \n",
      " 26  NEWCollabToolsWorkedWith      52883 non-null  object \n",
      " 27  NEWDevOps                     42686 non-null  object \n",
      " 28  NEWDevOpsImpt                 41732 non-null  object \n",
      " 29  NEWEdImpt                     48465 non-null  object \n",
      " 30  NEWJobHunt                    42286 non-null  object \n",
      " 31  NEWJobHuntResearch            41022 non-null  object \n",
      " 32  NEWLearn                      56156 non-null  object \n",
      " 33  NEWOffTopic                   50804 non-null  object \n",
      " 34  NEWOnboardGood                42623 non-null  object \n",
      " 35  NEWOtherComms                 57205 non-null  object \n",
      " 36  NEWOvertime                   43231 non-null  object \n",
      " 37  NEWPurchaseResearch           37321 non-null  object \n",
      " 38  NEWPurpleLink                 54803 non-null  object \n",
      " 39  NEWSOSites                    58275 non-null  object \n",
      " 40  NEWStuck                      54983 non-null  object \n",
      " 41  OpSys                         56228 non-null  object \n",
      " 42  OrgSize                       44334 non-null  object \n",
      " 43  PlatformDesireNextYear        50605 non-null  object \n",
      " 44  PlatformWorkedWith            53843 non-null  object \n",
      " 45  PurchaseWhat                  39364 non-null  object \n",
      " 46  Sexuality                     43992 non-null  object \n",
      " 47  SOAccount                     56805 non-null  object \n",
      " 48  SOComm                        56476 non-null  object \n",
      " 49  SOPartFreq                    46792 non-null  object \n",
      " 50  SOVisitFreq                   56970 non-null  object \n",
      " 51  SurveyEase                    51802 non-null  object \n",
      " 52  SurveyLength                  51701 non-null  object \n",
      " 53  Trans                         49345 non-null  object \n",
      " 54  UndergradMajor                50995 non-null  object \n",
      " 55  WebframeDesireNextYear        40024 non-null  object \n",
      " 56  WebframeWorkedWith            42279 non-null  object \n",
      " 57  WelcomeChange                 52683 non-null  object \n",
      " 58  WorkWeekHrs                   41151 non-null  float64\n",
      " 59  YearsCode                     57684 non-null  object \n",
      " 60  YearsCodePro                  46349 non-null  object \n",
      "dtypes: float64(4), int64(1), object(56)\n",
      "memory usage: 30.0+ MB\n"
     ]
    }
   ],
   "source": [
    "df.info()"
   ]
  },
  {
   "cell_type": "code",
   "execution_count": 5,
   "metadata": {},
   "outputs": [
    {
     "data": {
      "text/html": [
       "<div>\n",
       "<style scoped>\n",
       "    .dataframe tbody tr th:only-of-type {\n",
       "        vertical-align: middle;\n",
       "    }\n",
       "\n",
       "    .dataframe tbody tr th {\n",
       "        vertical-align: top;\n",
       "    }\n",
       "\n",
       "    .dataframe thead th {\n",
       "        text-align: right;\n",
       "    }\n",
       "</style>\n",
       "<table border=\"1\" class=\"dataframe\">\n",
       "  <thead>\n",
       "    <tr style=\"text-align: right;\">\n",
       "      <th></th>\n",
       "      <th>Respondent</th>\n",
       "      <th>Age</th>\n",
       "      <th>CompTotal</th>\n",
       "      <th>ConvertedComp</th>\n",
       "      <th>WorkWeekHrs</th>\n",
       "    </tr>\n",
       "  </thead>\n",
       "  <tbody>\n",
       "    <tr>\n",
       "      <th>count</th>\n",
       "      <td>64461.000000</td>\n",
       "      <td>45446.000000</td>\n",
       "      <td>3.482600e+04</td>\n",
       "      <td>3.475600e+04</td>\n",
       "      <td>41151.000000</td>\n",
       "    </tr>\n",
       "    <tr>\n",
       "      <th>mean</th>\n",
       "      <td>32554.079738</td>\n",
       "      <td>30.834111</td>\n",
       "      <td>3.190464e+242</td>\n",
       "      <td>1.037561e+05</td>\n",
       "      <td>40.782174</td>\n",
       "    </tr>\n",
       "    <tr>\n",
       "      <th>std</th>\n",
       "      <td>18967.442360</td>\n",
       "      <td>9.585392</td>\n",
       "      <td>inf</td>\n",
       "      <td>2.268853e+05</td>\n",
       "      <td>17.816383</td>\n",
       "    </tr>\n",
       "    <tr>\n",
       "      <th>min</th>\n",
       "      <td>1.000000</td>\n",
       "      <td>1.000000</td>\n",
       "      <td>0.000000e+00</td>\n",
       "      <td>0.000000e+00</td>\n",
       "      <td>1.000000</td>\n",
       "    </tr>\n",
       "    <tr>\n",
       "      <th>25%</th>\n",
       "      <td>16116.000000</td>\n",
       "      <td>24.000000</td>\n",
       "      <td>2.000000e+04</td>\n",
       "      <td>2.464800e+04</td>\n",
       "      <td>40.000000</td>\n",
       "    </tr>\n",
       "    <tr>\n",
       "      <th>50%</th>\n",
       "      <td>32231.000000</td>\n",
       "      <td>29.000000</td>\n",
       "      <td>6.300000e+04</td>\n",
       "      <td>5.404900e+04</td>\n",
       "      <td>40.000000</td>\n",
       "    </tr>\n",
       "    <tr>\n",
       "      <th>75%</th>\n",
       "      <td>49142.000000</td>\n",
       "      <td>35.000000</td>\n",
       "      <td>1.250000e+05</td>\n",
       "      <td>9.500000e+04</td>\n",
       "      <td>44.000000</td>\n",
       "    </tr>\n",
       "    <tr>\n",
       "      <th>max</th>\n",
       "      <td>65639.000000</td>\n",
       "      <td>279.000000</td>\n",
       "      <td>1.111111e+247</td>\n",
       "      <td>2.000000e+06</td>\n",
       "      <td>475.000000</td>\n",
       "    </tr>\n",
       "  </tbody>\n",
       "</table>\n",
       "</div>"
      ],
      "text/plain": [
       "         Respondent           Age      CompTotal  ConvertedComp   WorkWeekHrs\n",
       "count  64461.000000  45446.000000   3.482600e+04   3.475600e+04  41151.000000\n",
       "mean   32554.079738     30.834111  3.190464e+242   1.037561e+05     40.782174\n",
       "std    18967.442360      9.585392            inf   2.268853e+05     17.816383\n",
       "min        1.000000      1.000000   0.000000e+00   0.000000e+00      1.000000\n",
       "25%    16116.000000     24.000000   2.000000e+04   2.464800e+04     40.000000\n",
       "50%    32231.000000     29.000000   6.300000e+04   5.404900e+04     40.000000\n",
       "75%    49142.000000     35.000000   1.250000e+05   9.500000e+04     44.000000\n",
       "max    65639.000000    279.000000  1.111111e+247   2.000000e+06    475.000000"
      ]
     },
     "execution_count": 5,
     "metadata": {},
     "output_type": "execute_result"
    }
   ],
   "source": [
    "df.describe()"
   ]
  },
  {
   "cell_type": "code",
   "execution_count": 6,
   "metadata": {},
   "outputs": [
    {
     "data": {
      "text/plain": [
       "Respondent                0\n",
       "MainBranch              299\n",
       "Hobbyist                 45\n",
       "Age                   19015\n",
       "Age1stCode             6561\n",
       "                      ...  \n",
       "WebframeWorkedWith    22182\n",
       "WelcomeChange         11778\n",
       "WorkWeekHrs           23310\n",
       "YearsCode              6777\n",
       "YearsCodePro          18112\n",
       "Length: 61, dtype: int64"
      ]
     },
     "execution_count": 6,
     "metadata": {},
     "output_type": "execute_result"
    }
   ],
   "source": [
    "df.isnull().sum()"
   ]
  },
  {
   "cell_type": "code",
   "execution_count": 7,
   "metadata": {},
   "outputs": [],
   "source": [
    "df = df.dropna()"
   ]
  },
  {
   "cell_type": "code",
   "execution_count": 8,
   "metadata": {},
   "outputs": [
    {
     "data": {
      "text/plain": [
       "Respondent            0\n",
       "MainBranch            0\n",
       "Hobbyist              0\n",
       "Age                   0\n",
       "Age1stCode            0\n",
       "                     ..\n",
       "WebframeWorkedWith    0\n",
       "WelcomeChange         0\n",
       "WorkWeekHrs           0\n",
       "YearsCode             0\n",
       "YearsCodePro          0\n",
       "Length: 61, dtype: int64"
      ]
     },
     "execution_count": 8,
     "metadata": {},
     "output_type": "execute_result"
    }
   ],
   "source": [
    "df.isnull().sum()"
   ]
  },
  {
   "cell_type": "code",
   "execution_count": 9,
   "metadata": {},
   "outputs": [],
   "source": [
    "df['age_grop'] = df['Age']"
   ]
  },
  {
   "cell_type": "code",
   "execution_count": 10,
   "metadata": {},
   "outputs": [],
   "source": [
    "df.loc[(df.Age >= 10) & (df.Age <= 20),\"age_grop\"] = \"10 to 20\"\n",
    "df.loc[(df.Age >= 20) & (df.Age <= 30),\"age_grop\"] = \"20 to  30\"\n",
    "df.loc[(df.Age >= 30) & (df.Age <= 40),\"age_grop\"] = \"30 to 40\"\n",
    "df.loc[(df.Age >= 40) & (df.Age <= 50),\"age_grop\"] = \"40 to 50\"\n",
    "df.loc[(df.Age >= 50) & (df.Age <= 60),\"age_grop\"] = \"50 to 60\"\n",
    "df.loc[(df.Age >= 60) & (df.Age <= 70),\"age_grop\"] = \"60 to 70\"\n",
    "\n",
    "\n"
   ]
  },
  {
   "cell_type": "code",
   "execution_count": 11,
   "metadata": {},
   "outputs": [
    {
     "data": {
      "text/plain": [
       "<AxesSubplot: xlabel='age_grop', ylabel='count'>"
      ]
     },
     "execution_count": 11,
     "metadata": {},
     "output_type": "execute_result"
    },
    {
     "data": {
      "image/png": "[encoded data removed]",
      "text/plain": [
       "<Figure size 640x480 with 1 Axes>"
      ]
     },
     "metadata": {},
     "output_type": "display_data"
    }
   ],
   "source": [
    "sns.countplot(x=df['age_grop'])"
   ]
  },
  {
   "cell_type": "code",
   "execution_count": 12,
   "metadata": {},
   "outputs": [
    {
     "data": {
      "text/plain": [
       "(array([1823.,    0., 1705.,    0.,  115.,    0.,  548.,    0.,    8.,\n",
       "          14.]),\n",
       " array([0. , 0.5, 1. , 1.5, 2. , 2.5, 3. , 3.5, 4. , 4.5, 5. ]),\n",
       " <BarContainer object of 10 artists>)"
      ]
     },
     "execution_count": 12,
     "metadata": {},
     "output_type": "execute_result"
    },
    {
     "data": {
      "image/png": "[encoded data removed]",
      "text/plain": [
       "<Figure size 640x480 with 1 Axes>"
      ]
     },
     "metadata": {},
     "output_type": "display_data"
    }
   ],
   "source": [
    "plt.hist(data = df\n",
    "            ,x = 'age_grop'\n",
    "            # ,color = 'red'\n",
    "            # ,alpha = 1\n",
    "            # ,bins = 50\n",
    "            )"
   ]
  },
  {
   "cell_type": "code",
   "execution_count": 13,
   "metadata": {},
   "outputs": [
    {
     "data": {
      "image/png": "[encoded data removed]",
      "text/plain": [
       "<Figure size 640x480 with 1 Axes>"
      ]
     },
     "metadata": {},
     "output_type": "display_data"
    }
   ],
   "source": [
    "import matplotlib.pyplot as plt\n",
    "import numpy as np\n",
    "\n",
    "np.random.seed(42)\n",
    "x = np.random.normal(size=1000)\n",
    "\n",
    "plt.hist(x, density=True, bins=100)  # density=False would make counts\n",
    "plt.ylabel('Probability')\n",
    "plt.xlabel('Data');"
   ]
  },
  {
   "cell_type": "code",
   "execution_count": 14,
   "metadata": {},
   "outputs": [
    {
     "data": {
      "image/png": "[encoded data removed]",
      "text/plain": [
       "<Figure size 640x480 with 1 Axes>"
      ]
     },
     "metadata": {},
     "output_type": "display_data"
    }
   ],
   "source": [
    "import scipy.stats as st\n",
    "\n",
    "plt.hist(x, density=True, bins=82, label=\"Data\")\n",
    "mn, mx = plt.xlim()\n",
    "plt.xlim(mn, mx)\n",
    "kde_xs = np.linspace(mn, mx, 300)\n",
    "kde = st.gaussian_kde(x)\n",
    "plt.plot(kde_xs, kde.pdf(kde_xs), label=\"PDF\")\n",
    "plt.legend(loc=\"upper left\")\n",
    "plt.ylabel(\"Probability\")\n",
    "plt.xlabel(\"Data\")\n",
    "plt.title(\"Histogram\");"
   ]
  }
 ],
 "metadata": {
  "kernelspec": {
   "display_name": "Python 3.10.8 64-bit",
   "language": "python",
   "name": "python3"
  },
  "language_info": {
   "codemirror_mode": {
    "name": "ipython",
    "version": 3
   },
   "file_extension": ".py",
   "mimetype": "text/x-python",
   "name": "python",
   "nbconvert_exporter": "python",
   "pygments_lexer": "ipython3",
   "version": "3.10.8"
  },
  "vscode": {
   "interpreter": {
    "hash": "e18d32e78a9d1f6b5d41bcc9620a33cb0eb8a83172e9526f1e29732f1c151e0b"
   }
  }
 },
 "nbformat": 4,
 "nbformat_minor": 2
}

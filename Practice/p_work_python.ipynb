{
 "cells": [
  {
   "cell_type": "code",
   "execution_count": null,
   "metadata": {},
   "outputs": [],
   "source": [
    "import pandas as pd\n",
    "import numpy as np\n",
    "import matplotlib.pyplot as plt\n",
    "import seaborn as sns"
   ]
  },
  {
   "cell_type": "code",
   "execution_count": null,
   "metadata": {},
   "outputs": [],
   "source": [
    "df = pd.read_csv(\"SampleCSVFile_556kb.csv\")"
   ]
  },
  {
   "cell_type": "code",
   "execution_count": null,
   "metadata": {},
   "outputs": [],
   "source": [
    "df.head()"
   ]
  },
  {
   "cell_type": "code",
   "execution_count": null,
   "metadata": {},
   "outputs": [],
   "source": [
    "import requests\n",
    "from io import StringIO\n",
    "\n",
    "url = \"https://raw.githubusercontent.com/cs109/2014_data/master/countries.csv\"\n",
    "headers = {\"User-Agent\":\"Mozilla/5.0(Macintiosh;Intel Mac OS X 10.14;rv:66.0)geck/20100101 Fiverfox/66.0\"}\n",
    "req = requests.get(url,headers=headers)\n",
    "data = StringIO(req.text)\n",
    "\n",
    "pd.read_csv(data)\n",
    "\n"
   ]
  },
  {
   "cell_type": "code",
   "execution_count": null,
   "metadata": {},
   "outputs": [],
   "source": [
    "df =  pd.read_csv('demo_mlexpec.tsv',sep='\\t')"
   ]
  },
  {
   "cell_type": "code",
   "execution_count": null,
   "metadata": {},
   "outputs": [],
   "source": [
    "df.head()"
   ]
  },
  {
   "cell_type": "code",
   "execution_count": null,
   "metadata": {},
   "outputs": [],
   "source": [
    "df=pd.read_csv('aug_test.csv')#,index_col='enrollee_id')"
   ]
  },
  {
   "cell_type": "code",
   "execution_count": null,
   "metadata": {},
   "outputs": [],
   "source": [
    "df"
   ]
  },
  {
   "cell_type": "code",
   "execution_count": null,
   "metadata": {},
   "outputs": [],
   "source": [
    "# df =pd.read_csv(\"SampleCSVFile_556kb.csv\",header=2)\n",
    "df =pd.read_csv(\"SampleCSVFile_556kb.csv\")#,header=1)\n"
   ]
  },
  {
   "cell_type": "code",
   "execution_count": null,
   "metadata": {},
   "outputs": [],
   "source": [
    "df"
   ]
  },
  {
   "cell_type": "code",
   "execution_count": null,
   "metadata": {},
   "outputs": [],
   "source": [
    "df = pd.read_csv(\"aug_test.csv\",usecols=['enrollee_id','city'])"
   ]
  },
  {
   "cell_type": "code",
   "execution_count": null,
   "metadata": {},
   "outputs": [],
   "source": [
    "df"
   ]
  },
  {
   "cell_type": "code",
   "execution_count": null,
   "metadata": {},
   "outputs": [],
   "source": [
    "df = pd.read_csv('aug_test.csv',usecols=['gender'],squeeze=True)"
   ]
  },
  {
   "cell_type": "code",
   "execution_count": null,
   "metadata": {},
   "outputs": [],
   "source": [
    "df"
   ]
  },
  {
   "cell_type": "code",
   "execution_count": null,
   "metadata": {},
   "outputs": [],
   "source": [
    "df = pd.read_csv('zometo.csv')#,encoding='latin-1')"
   ]
  },
  {
   "cell_type": "code",
   "execution_count": null,
   "metadata": {},
   "outputs": [],
   "source": [
    "df"
   ]
  },
  {
   "cell_type": "code",
   "execution_count": null,
   "metadata": {},
   "outputs": [],
   "source": [
    "df = pd.read_csv(\"bx_book.csv\",sep=';',encoding='latin-1',error_bad_lines=False)\n"
   ]
  },
  {
   "cell_type": "code",
   "execution_count": null,
   "metadata": {},
   "outputs": [],
   "source": [
    "df.head()"
   ]
  },
  {
   "cell_type": "code",
   "execution_count": null,
   "metadata": {},
   "outputs": [],
   "source": [
    "df= pd.read_csv(\"IPL Matches 2008-2020.csv\")"
   ]
  },
  {
   "cell_type": "code",
   "execution_count": null,
   "metadata": {},
   "outputs": [],
   "source": [
    "df.head()"
   ]
  },
  {
   "cell_type": "code",
   "execution_count": null,
   "metadata": {},
   "outputs": [],
   "source": [
    "def remane(name):\n",
    "    if name == \"Royal Challengers Bangalore\":\n",
    "        return \"RCB\"\n",
    "    # if name == \"Kolkata Knight Riders\":\n",
    "    #     return \"KKR\""
   ]
  },
  {
   "cell_type": "code",
   "execution_count": null,
   "metadata": {},
   "outputs": [],
   "source": [
    "remane(\"Royal Challengers Bangalore\")"
   ]
  },
  {
   "cell_type": "code",
   "execution_count": null,
   "metadata": {},
   "outputs": [],
   "source": [
    "df = pd.read_csv(\"IPL Matches 2008-2020.csv\",converters={'team1':remane})#,'tem1':remane})"
   ]
  },
  {
   "cell_type": "code",
   "execution_count": null,
   "metadata": {},
   "outputs": [],
   "source": [
    "df.head()"
   ]
  },
  {
   "cell_type": "code",
   "execution_count": null,
   "metadata": {},
   "outputs": [],
   "source": [
    "df = pd.read_csv('SampleCSVFile_556kb.csv',chunksize=1000)"
   ]
  },
  {
   "cell_type": "code",
   "execution_count": null,
   "metadata": {},
   "outputs": [],
   "source": [
    "for chun in df:\n",
    "    print(chun.shape)"
   ]
  },
  {
   "cell_type": "code",
   "execution_count": null,
   "metadata": {},
   "outputs": [],
   "source": [
    "# pd.read_json(\"train.json\")"
   ]
  },
  {
   "cell_type": "code",
   "execution_count": null,
   "metadata": {},
   "outputs": [],
   "source": []
  },
  {
   "attachments": {},
   "cell_type": "markdown",
   "metadata": {},
   "source": [
    "# Json File "
   ]
  },
  {
   "cell_type": "code",
   "execution_count": null,
   "metadata": {},
   "outputs": [],
   "source": [
    "import numpy as np\n",
    "import pandas as pd\n",
    "import requests \n",
    "from bs4 import BeautifulSoup\n",
    "import json"
   ]
  },
  {
   "cell_type": "code",
   "execution_count": null,
   "metadata": {},
   "outputs": [],
   "source": [
    "df =pd.read_json(\"config.json\")\n",
    "# data = json.load(open('tokenizer.json'))\n",
    "# file = open(data, encoding=\"utf8\")\n",
    "\n",
    "\n"
   ]
  },
  {
   "cell_type": "code",
   "execution_count": null,
   "metadata": {},
   "outputs": [],
   "source": [
    "df"
   ]
  },
  {
   "cell_type": "code",
   "execution_count": null,
   "metadata": {},
   "outputs": [],
   "source": [
    "df"
   ]
  },
  {
   "cell_type": "code",
   "execution_count": null,
   "metadata": {},
   "outputs": [],
   "source": [
    "url = requests.get(\"https://api.themoviedb.org/3/movie/popular?api_key=b19451476195dea942f2857e65dca0ef&language=en-US&page=1\")\n",
    "url"
   ]
  },
  {
   "cell_type": "code",
   "execution_count": null,
   "metadata": {},
   "outputs": [],
   "source": [
    "df = pd.DataFrame(url.json()['results'])[['id','adult','genre_ids','backdrop_path']]"
   ]
  },
  {
   "cell_type": "code",
   "execution_count": null,
   "metadata": {},
   "outputs": [],
   "source": [
    "df.head()"
   ]
  },
  {
   "cell_type": "code",
   "execution_count": null,
   "metadata": {},
   "outputs": [],
   "source": [
    "df = pd.DataFrame()"
   ]
  },
  {
   "cell_type": "code",
   "execution_count": null,
   "metadata": {},
   "outputs": [],
   "source": [
    "df"
   ]
  },
  {
   "cell_type": "code",
   "execution_count": null,
   "metadata": {},
   "outputs": [],
   "source": [
    "for i in range(1,100):\n",
    "    url = requests.get(\"https://api.themoviedb.org/3/movie/popular?api_key=b19451476195dea942f2857e65dca0ef&language=en-US&page={}\".format(i))\n",
    "    temp_df = pd.DataFrame(url.json()['results'])[['id','adult','genre_ids','backdrop_path']]\n",
    "    df = df.append(temp_df,ignore_index=True)\n",
    "    "
   ]
  },
  {
   "cell_type": "code",
   "execution_count": null,
   "metadata": {},
   "outputs": [],
   "source": [
    "df"
   ]
  },
  {
   "cell_type": "code",
   "execution_count": null,
   "metadata": {},
   "outputs": [],
   "source": [
    "df.shape\n"
   ]
  },
  {
   "cell_type": "code",
   "execution_count": null,
   "metadata": {},
   "outputs": [],
   "source": [
    "df.to_csv(\"movies\")"
   ]
  },
  {
   "attachments": {},
   "cell_type": "markdown",
   "metadata": {},
   "source": [
    "# WORK IN SQL DATA"
   ]
  },
  {
   "cell_type": "code",
   "execution_count": null,
   "metadata": {},
   "outputs": [],
   "source": [
    "import requests\n",
    "import pandas as pd\n",
    "from bs4 import BeautifulSoup\n",
    "import mysql.connector"
   ]
  },
  {
   "cell_type": "code",
   "execution_count": null,
   "metadata": {},
   "outputs": [],
   "source": [
    "# conn = mysql.connector.connect(host='localhost',user='root',password='',database='world')\n",
    "conn = mysql.connector.connect(host='localhost',user = 'root',password='',database='world_dataset')\n"
   ]
  },
  {
   "cell_type": "code",
   "execution_count": null,
   "metadata": {},
   "outputs": [],
   "source": [
    "df = pd.read_sql_query(\"SELECT * FROM cities\",conn)\n",
    "\n",
    "\n",
    "# df = pd.read_sql_query(\"SELECT * FROM city WHERE CountryCode LIKE 'USA'\",conn)\n"
   ]
  },
  {
   "cell_type": "code",
   "execution_count": null,
   "metadata": {},
   "outputs": [],
   "source": [
    "df.head(5)"
   ]
  },
  {
   "cell_type": "code",
   "execution_count": null,
   "metadata": {},
   "outputs": [],
   "source": [
    "df = pd.read_sql_query(\"SELECT * FROM cities WHERE country_code LIKE 'AE'\",conn)"
   ]
  },
  {
   "cell_type": "code",
   "execution_count": null,
   "metadata": {},
   "outputs": [],
   "source": [
    "df.head()"
   ]
  },
  {
   "attachments": {},
   "cell_type": "markdown",
   "metadata": {},
   "source": [
    "# Working with webscriping"
   ]
  },
  {
   "cell_type": "code",
   "execution_count": null,
   "metadata": {},
   "outputs": [],
   "source": [
    "import pandas as pas\n",
    "import numpy as np\n",
    "from bs4 import BeautifulSoup\n",
    "import requests"
   ]
  },
  {
   "cell_type": "code",
   "execution_count": null,
   "metadata": {},
   "outputs": [],
   "source": [
    "headers = {\"User-Agent\":\"Mozilla/5.0(Macintiosh;Intel Mac OS X 10.14;rv:66.0)geck/20100101 Fiverfox/66.0\"} # is used respone on the human because the compiler is connet the boot is not answer so this point wse use header\n",
    "web_page = requests.get('https://rapidapi.com/hub?page=1',headers=headers).text"
   ]
  },
  {
   "cell_type": "code",
   "execution_count": null,
   "metadata": {},
   "outputs": [],
   "source": [
    "soup = BeautifulSoup(web_page,'lxml')"
   ]
  },
  {
   "cell_type": "code",
   "execution_count": null,
   "metadata": {},
   "outputs": [],
   "source": [
    "# soup.prettify() # SHOW THE ALL DATA"
   ]
  },
  {
   "cell_type": "code",
   "execution_count": null,
   "metadata": {},
   "outputs": [],
   "source": [
    "# len(soup.find_all(\"a\"))\n",
    "len(soup.find_all(\"div\",class_=\"SideDiscoveryMenu\"))\n"
   ]
  },
  {
   "cell_type": "code",
   "execution_count": null,
   "metadata": {},
   "outputs": [],
   "source": [
    "for i in soup.find_all('a'):\n",
    "    print(i.text.strip())"
   ]
  },
  {
   "attachments": {},
   "cell_type": "markdown",
   "metadata": {},
   "source": [
    "# Working with EDA  "
   ]
  },
  {
   "cell_type": "code",
   "execution_count": 98,
   "metadata": {},
   "outputs": [],
   "source": [
    "import pandas as pd\n",
    "import seaborn as sns"
   ]
  },
  {
   "cell_type": "code",
   "execution_count": 101,
   "metadata": {},
   "outputs": [],
   "source": [
    "df = pd.read_csv(\"students_asses_combined.csv\")"
   ]
  },
  {
   "cell_type": "code",
   "execution_count": 102,
   "metadata": {},
   "outputs": [
    {
     "data": {
      "text/html": [
       "<div>\n",
       "<style scoped>\n",
       "    .dataframe tbody tr th:only-of-type {\n",
       "        vertical-align: middle;\n",
       "    }\n",
       "\n",
       "    .dataframe tbody tr th {\n",
       "        vertical-align: top;\n",
       "    }\n",
       "\n",
       "    .dataframe thead th {\n",
       "        text-align: right;\n",
       "    }\n",
       "</style>\n",
       "<table border=\"1\" class=\"dataframe\">\n",
       "  <thead>\n",
       "    <tr style=\"text-align: right;\">\n",
       "      <th></th>\n",
       "      <th>Unnamed: 0</th>\n",
       "      <th>code_module</th>\n",
       "      <th>code_presentation</th>\n",
       "      <th>id_student</th>\n",
       "      <th>CS20</th>\n",
       "      <th>CS40</th>\n",
       "      <th>CS60</th>\n",
       "      <th>CS80</th>\n",
       "      <th>CS100</th>\n",
       "      <th>PCS20</th>\n",
       "      <th>...</th>\n",
       "      <th>LS40</th>\n",
       "      <th>LS60</th>\n",
       "      <th>LS80</th>\n",
       "      <th>LS100</th>\n",
       "      <th>RS20</th>\n",
       "      <th>RS40</th>\n",
       "      <th>RS60</th>\n",
       "      <th>RS80</th>\n",
       "      <th>RS100</th>\n",
       "      <th>date_registration</th>\n",
       "    </tr>\n",
       "  </thead>\n",
       "  <tbody>\n",
       "    <tr>\n",
       "      <th>0</th>\n",
       "      <td>0</td>\n",
       "      <td>AAA</td>\n",
       "      <td>2013J</td>\n",
       "      <td>11391</td>\n",
       "      <td>7.8</td>\n",
       "      <td>24.8</td>\n",
       "      <td>40.8</td>\n",
       "      <td>57.8</td>\n",
       "      <td>82.4</td>\n",
       "      <td>7.800000e+01</td>\n",
       "      <td>...</td>\n",
       "      <td>0</td>\n",
       "      <td>0</td>\n",
       "      <td>0</td>\n",
       "      <td>0</td>\n",
       "      <td>78.0</td>\n",
       "      <td>81.5</td>\n",
       "      <td>81.000000</td>\n",
       "      <td>82.00</td>\n",
       "      <td>82.0</td>\n",
       "      <td>-159.0</td>\n",
       "    </tr>\n",
       "    <tr>\n",
       "      <th>1</th>\n",
       "      <td>1</td>\n",
       "      <td>AAA</td>\n",
       "      <td>2013J</td>\n",
       "      <td>28400</td>\n",
       "      <td>7.0</td>\n",
       "      <td>20.6</td>\n",
       "      <td>34.6</td>\n",
       "      <td>47.4</td>\n",
       "      <td>65.4</td>\n",
       "      <td>7.000000e+01</td>\n",
       "      <td>...</td>\n",
       "      <td>1</td>\n",
       "      <td>2</td>\n",
       "      <td>2</td>\n",
       "      <td>2</td>\n",
       "      <td>70.0</td>\n",
       "      <td>69.0</td>\n",
       "      <td>69.333333</td>\n",
       "      <td>68.00</td>\n",
       "      <td>66.4</td>\n",
       "      <td>-53.0</td>\n",
       "    </tr>\n",
       "    <tr>\n",
       "      <th>2</th>\n",
       "      <td>2</td>\n",
       "      <td>AAA</td>\n",
       "      <td>2013J</td>\n",
       "      <td>30268</td>\n",
       "      <td>0.0</td>\n",
       "      <td>0.0</td>\n",
       "      <td>0.0</td>\n",
       "      <td>0.0</td>\n",
       "      <td>0.0</td>\n",
       "      <td>1.000000e-15</td>\n",
       "      <td>...</td>\n",
       "      <td>0</td>\n",
       "      <td>0</td>\n",
       "      <td>0</td>\n",
       "      <td>0</td>\n",
       "      <td>0.0</td>\n",
       "      <td>0.0</td>\n",
       "      <td>0.000000</td>\n",
       "      <td>0.00</td>\n",
       "      <td>0.0</td>\n",
       "      <td>-92.0</td>\n",
       "    </tr>\n",
       "    <tr>\n",
       "      <th>3</th>\n",
       "      <td>3</td>\n",
       "      <td>AAA</td>\n",
       "      <td>2013J</td>\n",
       "      <td>31604</td>\n",
       "      <td>7.2</td>\n",
       "      <td>21.4</td>\n",
       "      <td>36.2</td>\n",
       "      <td>53.8</td>\n",
       "      <td>76.3</td>\n",
       "      <td>7.200000e+01</td>\n",
       "      <td>...</td>\n",
       "      <td>0</td>\n",
       "      <td>0</td>\n",
       "      <td>0</td>\n",
       "      <td>0</td>\n",
       "      <td>72.0</td>\n",
       "      <td>71.5</td>\n",
       "      <td>72.333333</td>\n",
       "      <td>76.25</td>\n",
       "      <td>76.0</td>\n",
       "      <td>-52.0</td>\n",
       "    </tr>\n",
       "    <tr>\n",
       "      <th>4</th>\n",
       "      <td>4</td>\n",
       "      <td>AAA</td>\n",
       "      <td>2013J</td>\n",
       "      <td>32885</td>\n",
       "      <td>6.9</td>\n",
       "      <td>12.9</td>\n",
       "      <td>25.5</td>\n",
       "      <td>32.5</td>\n",
       "      <td>55.0</td>\n",
       "      <td>6.900000e+01</td>\n",
       "      <td>...</td>\n",
       "      <td>2</td>\n",
       "      <td>3</td>\n",
       "      <td>4</td>\n",
       "      <td>5</td>\n",
       "      <td>69.0</td>\n",
       "      <td>49.5</td>\n",
       "      <td>54.000000</td>\n",
       "      <td>49.25</td>\n",
       "      <td>54.4</td>\n",
       "      <td>-176.0</td>\n",
       "    </tr>\n",
       "  </tbody>\n",
       "</table>\n",
       "<p>5 rows × 25 columns</p>\n",
       "</div>"
      ],
      "text/plain": [
       "   Unnamed: 0 code_module code_presentation  id_student  CS20  CS40  CS60  \\\n",
       "0           0         AAA             2013J       11391   7.8  24.8  40.8   \n",
       "1           1         AAA             2013J       28400   7.0  20.6  34.6   \n",
       "2           2         AAA             2013J       30268   0.0   0.0   0.0   \n",
       "3           3         AAA             2013J       31604   7.2  21.4  36.2   \n",
       "4           4         AAA             2013J       32885   6.9  12.9  25.5   \n",
       "\n",
       "   CS80  CS100         PCS20  ...  LS40  LS60  LS80  LS100  RS20  RS40  \\\n",
       "0  57.8   82.4  7.800000e+01  ...     0     0     0      0  78.0  81.5   \n",
       "1  47.4   65.4  7.000000e+01  ...     1     2     2      2  70.0  69.0   \n",
       "2   0.0    0.0  1.000000e-15  ...     0     0     0      0   0.0   0.0   \n",
       "3  53.8   76.3  7.200000e+01  ...     0     0     0      0  72.0  71.5   \n",
       "4  32.5   55.0  6.900000e+01  ...     2     3     4      5  69.0  49.5   \n",
       "\n",
       "        RS60   RS80  RS100  date_registration  \n",
       "0  81.000000  82.00   82.0             -159.0  \n",
       "1  69.333333  68.00   66.4              -53.0  \n",
       "2   0.000000   0.00    0.0              -92.0  \n",
       "3  72.333333  76.25   76.0              -52.0  \n",
       "4  54.000000  49.25   54.4             -176.0  \n",
       "\n",
       "[5 rows x 25 columns]"
      ]
     },
     "execution_count": 102,
     "metadata": {},
     "output_type": "execute_result"
    }
   ],
   "source": [
    "df.head(5)"
   ]
  },
  {
   "cell_type": "code",
   "execution_count": 103,
   "metadata": {},
   "outputs": [
    {
     "data": {
      "text/html": [
       "<div>\n",
       "<style scoped>\n",
       "    .dataframe tbody tr th:only-of-type {\n",
       "        vertical-align: middle;\n",
       "    }\n",
       "\n",
       "    .dataframe tbody tr th {\n",
       "        vertical-align: top;\n",
       "    }\n",
       "\n",
       "    .dataframe thead th {\n",
       "        text-align: right;\n",
       "    }\n",
       "</style>\n",
       "<table border=\"1\" class=\"dataframe\">\n",
       "  <thead>\n",
       "    <tr style=\"text-align: right;\">\n",
       "      <th></th>\n",
       "      <th>Unnamed: 0</th>\n",
       "      <th>id_student</th>\n",
       "      <th>CS20</th>\n",
       "      <th>CS40</th>\n",
       "      <th>CS60</th>\n",
       "      <th>CS80</th>\n",
       "      <th>CS100</th>\n",
       "      <th>PCS20</th>\n",
       "      <th>PCS40</th>\n",
       "      <th>PCS60</th>\n",
       "      <th>...</th>\n",
       "      <th>LS40</th>\n",
       "      <th>LS60</th>\n",
       "      <th>LS80</th>\n",
       "      <th>LS100</th>\n",
       "      <th>RS20</th>\n",
       "      <th>RS40</th>\n",
       "      <th>RS60</th>\n",
       "      <th>RS80</th>\n",
       "      <th>RS100</th>\n",
       "      <th>date_registration</th>\n",
       "    </tr>\n",
       "  </thead>\n",
       "  <tbody>\n",
       "    <tr>\n",
       "      <th>count</th>\n",
       "      <td>32593.000000</td>\n",
       "      <td>3.259300e+04</td>\n",
       "      <td>32593.000000</td>\n",
       "      <td>32593.000000</td>\n",
       "      <td>32593.000000</td>\n",
       "      <td>32593.000000</td>\n",
       "      <td>32593.000000</td>\n",
       "      <td>3.259300e+04</td>\n",
       "      <td>3.259300e+04</td>\n",
       "      <td>3.259300e+04</td>\n",
       "      <td>...</td>\n",
       "      <td>32593.000000</td>\n",
       "      <td>32593.000000</td>\n",
       "      <td>32593.000000</td>\n",
       "      <td>32593.000000</td>\n",
       "      <td>32593.000000</td>\n",
       "      <td>32593.000000</td>\n",
       "      <td>32593.000000</td>\n",
       "      <td>32593.000000</td>\n",
       "      <td>32593.000000</td>\n",
       "      <td>32593.000000</td>\n",
       "    </tr>\n",
       "    <tr>\n",
       "      <th>mean</th>\n",
       "      <td>16296.000000</td>\n",
       "      <td>7.066877e+05</td>\n",
       "      <td>8.109089</td>\n",
       "      <td>17.249431</td>\n",
       "      <td>28.373046</td>\n",
       "      <td>37.339062</td>\n",
       "      <td>38.584384</td>\n",
       "      <td>6.151624e+01</td>\n",
       "      <td>5.404449e+01</td>\n",
       "      <td>4.949954e+01</td>\n",
       "      <td>...</td>\n",
       "      <td>0.712791</td>\n",
       "      <td>1.038720</td>\n",
       "      <td>1.369926</td>\n",
       "      <td>1.512932</td>\n",
       "      <td>54.822477</td>\n",
       "      <td>52.451296</td>\n",
       "      <td>48.783797</td>\n",
       "      <td>45.991565</td>\n",
       "      <td>45.105223</td>\n",
       "      <td>-69.315467</td>\n",
       "    </tr>\n",
       "    <tr>\n",
       "      <th>std</th>\n",
       "      <td>9408.932998</td>\n",
       "      <td>5.491673e+05</td>\n",
       "      <td>7.453518</td>\n",
       "      <td>15.407434</td>\n",
       "      <td>24.860116</td>\n",
       "      <td>33.655055</td>\n",
       "      <td>34.617008</td>\n",
       "      <td>3.617263e+01</td>\n",
       "      <td>3.586114e+01</td>\n",
       "      <td>3.618062e+01</td>\n",
       "      <td>...</td>\n",
       "      <td>1.045193</td>\n",
       "      <td>1.467776</td>\n",
       "      <td>2.009495</td>\n",
       "      <td>2.195459</td>\n",
       "      <td>35.133004</td>\n",
       "      <td>34.096549</td>\n",
       "      <td>33.529792</td>\n",
       "      <td>33.349520</td>\n",
       "      <td>34.240076</td>\n",
       "      <td>49.293930</td>\n",
       "    </tr>\n",
       "    <tr>\n",
       "      <th>min</th>\n",
       "      <td>0.000000</td>\n",
       "      <td>3.733000e+03</td>\n",
       "      <td>0.000000</td>\n",
       "      <td>0.000000</td>\n",
       "      <td>0.000000</td>\n",
       "      <td>0.000000</td>\n",
       "      <td>0.000000</td>\n",
       "      <td>4.000000e-16</td>\n",
       "      <td>2.000000e-16</td>\n",
       "      <td>1.000000e-16</td>\n",
       "      <td>...</td>\n",
       "      <td>0.000000</td>\n",
       "      <td>0.000000</td>\n",
       "      <td>0.000000</td>\n",
       "      <td>0.000000</td>\n",
       "      <td>0.000000</td>\n",
       "      <td>0.000000</td>\n",
       "      <td>0.000000</td>\n",
       "      <td>0.000000</td>\n",
       "      <td>0.000000</td>\n",
       "      <td>-322.000000</td>\n",
       "    </tr>\n",
       "    <tr>\n",
       "      <th>25%</th>\n",
       "      <td>8148.000000</td>\n",
       "      <td>5.085730e+05</td>\n",
       "      <td>0.000000</td>\n",
       "      <td>0.000000</td>\n",
       "      <td>0.000000</td>\n",
       "      <td>0.000000</td>\n",
       "      <td>0.000000</td>\n",
       "      <td>3.400000e+01</td>\n",
       "      <td>1.550000e+01</td>\n",
       "      <td>8.923077e+00</td>\n",
       "      <td>...</td>\n",
       "      <td>0.000000</td>\n",
       "      <td>0.000000</td>\n",
       "      <td>0.000000</td>\n",
       "      <td>0.000000</td>\n",
       "      <td>20.000000</td>\n",
       "      <td>18.666667</td>\n",
       "      <td>13.000000</td>\n",
       "      <td>10.000000</td>\n",
       "      <td>6.818182</td>\n",
       "      <td>-100.000000</td>\n",
       "    </tr>\n",
       "    <tr>\n",
       "      <th>50%</th>\n",
       "      <td>16296.000000</td>\n",
       "      <td>5.903100e+05</td>\n",
       "      <td>7.840000</td>\n",
       "      <td>15.500000</td>\n",
       "      <td>29.840000</td>\n",
       "      <td>35.480000</td>\n",
       "      <td>36.840000</td>\n",
       "      <td>7.484211e+01</td>\n",
       "      <td>6.672093e+01</td>\n",
       "      <td>5.866667e+01</td>\n",
       "      <td>...</td>\n",
       "      <td>0.000000</td>\n",
       "      <td>0.000000</td>\n",
       "      <td>0.000000</td>\n",
       "      <td>0.000000</td>\n",
       "      <td>68.000000</td>\n",
       "      <td>65.000000</td>\n",
       "      <td>58.200000</td>\n",
       "      <td>52.500000</td>\n",
       "      <td>51.750000</td>\n",
       "      <td>-57.000000</td>\n",
       "    </tr>\n",
       "    <tr>\n",
       "      <th>75%</th>\n",
       "      <td>24444.000000</td>\n",
       "      <td>6.444530e+05</td>\n",
       "      <td>14.530000</td>\n",
       "      <td>32.250000</td>\n",
       "      <td>49.750000</td>\n",
       "      <td>69.250000</td>\n",
       "      <td>72.750000</td>\n",
       "      <td>9.000000e+01</td>\n",
       "      <td>8.409091e+01</td>\n",
       "      <td>8.136000e+01</td>\n",
       "      <td>...</td>\n",
       "      <td>1.000000</td>\n",
       "      <td>2.000000</td>\n",
       "      <td>2.000000</td>\n",
       "      <td>2.000000</td>\n",
       "      <td>83.000000</td>\n",
       "      <td>82.000000</td>\n",
       "      <td>78.750000</td>\n",
       "      <td>76.600000</td>\n",
       "      <td>77.454545</td>\n",
       "      <td>-29.000000</td>\n",
       "    </tr>\n",
       "    <tr>\n",
       "      <th>max</th>\n",
       "      <td>32592.000000</td>\n",
       "      <td>2.716795e+06</td>\n",
       "      <td>25.000000</td>\n",
       "      <td>50.000000</td>\n",
       "      <td>99.720000</td>\n",
       "      <td>99.720000</td>\n",
       "      <td>100.000000</td>\n",
       "      <td>1.000000e+02</td>\n",
       "      <td>1.000000e+02</td>\n",
       "      <td>1.000000e+02</td>\n",
       "      <td>...</td>\n",
       "      <td>6.000000</td>\n",
       "      <td>8.000000</td>\n",
       "      <td>11.000000</td>\n",
       "      <td>12.000000</td>\n",
       "      <td>100.000000</td>\n",
       "      <td>100.000000</td>\n",
       "      <td>100.000000</td>\n",
       "      <td>100.000000</td>\n",
       "      <td>100.000000</td>\n",
       "      <td>167.000000</td>\n",
       "    </tr>\n",
       "  </tbody>\n",
       "</table>\n",
       "<p>8 rows × 23 columns</p>\n",
       "</div>"
      ],
      "text/plain": [
       "         Unnamed: 0    id_student          CS20          CS40          CS60  \\\n",
       "count  32593.000000  3.259300e+04  32593.000000  32593.000000  32593.000000   \n",
       "mean   16296.000000  7.066877e+05      8.109089     17.249431     28.373046   \n",
       "std     9408.932998  5.491673e+05      7.453518     15.407434     24.860116   \n",
       "min        0.000000  3.733000e+03      0.000000      0.000000      0.000000   \n",
       "25%     8148.000000  5.085730e+05      0.000000      0.000000      0.000000   \n",
       "50%    16296.000000  5.903100e+05      7.840000     15.500000     29.840000   \n",
       "75%    24444.000000  6.444530e+05     14.530000     32.250000     49.750000   \n",
       "max    32592.000000  2.716795e+06     25.000000     50.000000     99.720000   \n",
       "\n",
       "               CS80         CS100         PCS20         PCS40         PCS60  \\\n",
       "count  32593.000000  32593.000000  3.259300e+04  3.259300e+04  3.259300e+04   \n",
       "mean      37.339062     38.584384  6.151624e+01  5.404449e+01  4.949954e+01   \n",
       "std       33.655055     34.617008  3.617263e+01  3.586114e+01  3.618062e+01   \n",
       "min        0.000000      0.000000  4.000000e-16  2.000000e-16  1.000000e-16   \n",
       "25%        0.000000      0.000000  3.400000e+01  1.550000e+01  8.923077e+00   \n",
       "50%       35.480000     36.840000  7.484211e+01  6.672093e+01  5.866667e+01   \n",
       "75%       69.250000     72.750000  9.000000e+01  8.409091e+01  8.136000e+01   \n",
       "max       99.720000    100.000000  1.000000e+02  1.000000e+02  1.000000e+02   \n",
       "\n",
       "       ...          LS40          LS60          LS80         LS100  \\\n",
       "count  ...  32593.000000  32593.000000  32593.000000  32593.000000   \n",
       "mean   ...      0.712791      1.038720      1.369926      1.512932   \n",
       "std    ...      1.045193      1.467776      2.009495      2.195459   \n",
       "min    ...      0.000000      0.000000      0.000000      0.000000   \n",
       "25%    ...      0.000000      0.000000      0.000000      0.000000   \n",
       "50%    ...      0.000000      0.000000      0.000000      0.000000   \n",
       "75%    ...      1.000000      2.000000      2.000000      2.000000   \n",
       "max    ...      6.000000      8.000000     11.000000     12.000000   \n",
       "\n",
       "               RS20          RS40          RS60          RS80         RS100  \\\n",
       "count  32593.000000  32593.000000  32593.000000  32593.000000  32593.000000   \n",
       "mean      54.822477     52.451296     48.783797     45.991565     45.105223   \n",
       "std       35.133004     34.096549     33.529792     33.349520     34.240076   \n",
       "min        0.000000      0.000000      0.000000      0.000000      0.000000   \n",
       "25%       20.000000     18.666667     13.000000     10.000000      6.818182   \n",
       "50%       68.000000     65.000000     58.200000     52.500000     51.750000   \n",
       "75%       83.000000     82.000000     78.750000     76.600000     77.454545   \n",
       "max      100.000000    100.000000    100.000000    100.000000    100.000000   \n",
       "\n",
       "       date_registration  \n",
       "count       32593.000000  \n",
       "mean          -69.315467  \n",
       "std            49.293930  \n",
       "min          -322.000000  \n",
       "25%          -100.000000  \n",
       "50%           -57.000000  \n",
       "75%           -29.000000  \n",
       "max           167.000000  \n",
       "\n",
       "[8 rows x 23 columns]"
      ]
     },
     "execution_count": 103,
     "metadata": {},
     "output_type": "execute_result"
    }
   ],
   "source": [
    "df.describe()"
   ]
  },
  {
   "cell_type": "code",
   "execution_count": 106,
   "metadata": {},
   "outputs": [
    {
     "name": "stdout",
     "output_type": "stream",
     "text": [
      "<class 'pandas.core.frame.DataFrame'>\n",
      "RangeIndex: 32593 entries, 0 to 32592\n",
      "Data columns (total 25 columns):\n",
      " #   Column             Non-Null Count  Dtype  \n",
      "---  ------             --------------  -----  \n",
      " 0   Unnamed: 0         32593 non-null  int64  \n",
      " 1   code_module        32593 non-null  object \n",
      " 2   code_presentation  32593 non-null  object \n",
      " 3   id_student         32593 non-null  int64  \n",
      " 4   CS20               32593 non-null  float64\n",
      " 5   CS40               32593 non-null  float64\n",
      " 6   CS60               32593 non-null  float64\n",
      " 7   CS80               32593 non-null  float64\n",
      " 8   CS100              32593 non-null  float64\n",
      " 9   PCS20              32593 non-null  float64\n",
      " 10  PCS40              32593 non-null  float64\n",
      " 11  PCS60              32593 non-null  float64\n",
      " 12  PCS80              32593 non-null  float64\n",
      " 13  PCS100             32593 non-null  float64\n",
      " 14  LS20               32593 non-null  int64  \n",
      " 15  LS40               32593 non-null  int64  \n",
      " 16  LS60               32593 non-null  int64  \n",
      " 17  LS80               32593 non-null  int64  \n",
      " 18  LS100              32593 non-null  int64  \n",
      " 19  RS20               32593 non-null  float64\n",
      " 20  RS40               32593 non-null  float64\n",
      " 21  RS60               32593 non-null  float64\n",
      " 22  RS80               32593 non-null  float64\n",
      " 23  RS100              32593 non-null  float64\n",
      " 24  date_registration  32593 non-null  float64\n",
      "dtypes: float64(16), int64(7), object(2)\n",
      "memory usage: 6.2+ MB\n",
      "814825\n"
     ]
    }
   ],
   "source": [
    "df.info()\n",
    "print(df.size)"
   ]
  },
  {
   "cell_type": "code",
   "execution_count": 105,
   "metadata": {},
   "outputs": [
    {
     "data": {
      "text/plain": [
       "<AxesSubplot: xlabel='Unnamed: 0', ylabel='count'>"
      ]
     },
     "execution_count": 105,
     "metadata": {},
     "output_type": "execute_result"
    },
    {
     "data": {
      "image/png": "[encoded data removed]",
      "text/plain": [
       "<Figure size 640x480 with 1 Axes>"
      ]
     },
     "metadata": {},
     "output_type": "display_data"
    }
   ],
   "source": [
    "sns.countplot(x=df['Unnamed: 0'])"
   ]
  },
  {
   "cell_type": "code",
   "execution_count": null,
   "metadata": {},
   "outputs": [],
   "source": []
  }
 ],
 "metadata": {
  "kernelspec": {
   "display_name": "Python 3.10.8 64-bit",
   "language": "python",
   "name": "python3"
  },
  "language_info": {
   "codemirror_mode": {
    "name": "ipython",
    "version": 3
   },
   "file_extension": ".py",
   "mimetype": "text/x-python",
   "name": "python",
   "nbconvert_exporter": "python",
   "pygments_lexer": "ipython3",
   "version": "3.10.8 (tags/v3.10.8:aaaf517, Oct 11 2022, 16:50:30) [MSC v.1933 64 bit (AMD64)]"
  },
  "orig_nbformat": 4,
  "vscode": {
   "interpreter": {
    "hash": "e18d32e78a9d1f6b5d41bcc9620a33cb0eb8a83172e9526f1e29732f1c151e0b"
   }
  }
 },
 "nbformat": 4,
 "nbformat_minor": 2
}

{
 "cells": [
  {
   "cell_type": "code",
   "execution_count": null,
   "id": "80584fa2-b7b7-4355-a55c-332cad2eab19",
   "metadata": {},
   "outputs": [],
   "source": [
    "import pickle\n",
    "import numpy as np"
   ]
  },
  {
   "cell_type": "code",
   "execution_count": null,
   "id": "b03e13b0-da01-40b4-a091-3a38fa36f8ba",
   "metadata": {},
   "outputs": [],
   "source": [
    "ohe_sex = pickle.load(open(\"models/OH_sex.pkl\",\"rb\"))\n",
    "ohe_embarked = pickle.load(open(\"models/OH_embarked.pkl\",\"rb\"))\n",
    "clf = pickle.load(open(\"models/clf.pkl\",\"rb\"))"
   ]
  },
  {
   "cell_type": "code",
   "execution_count": null,
   "id": "43cd2017-270a-42d2-8afa-4a081e52853f",
   "metadata": {},
   "outputs": [],
   "source": [
    "# Assume user iput\n",
    "# Pclass/gender/age/Sibsp/Parch/Fare/Embarked.pkl\n",
    "test_input = np.array([3, \"female\", 34.0, 0, 0, 12.9, 'E'],dtype=object).reshape(1,7)"
   ]
  },
  {
   "cell_type": "code",
   "execution_count": null,
   "id": "bb257a29-bef8-4ac3-991f-b435fa7f128a",
   "metadata": {},
   "outputs": [],
   "source": [
    "test_input"
   ]
  },
  {
   "cell_type": "code",
   "execution_count": null,
   "id": "c0c41513-d5a3-423d-bb95-49cb944a2e8c",
   "metadata": {},
   "outputs": [],
   "source": [
    "test_input_sex = ohe_sex.transform(test_input[:,1].reshape(1,1))"
   ]
  },
  {
   "cell_type": "code",
   "execution_count": null,
   "id": "fa974a1d-4bfd-4bf5-9d72-335815af2b4e",
   "metadata": {},
   "outputs": [],
   "source": [
    "test_input_sex"
   ]
  },
  {
   "cell_type": "code",
   "execution_count": null,
   "id": "a2821f27-e188-4de6-bd30-e8eab5083bb4",
   "metadata": {},
   "outputs": [],
   "source": [
    "test_input_embarked = ohe_embarked.transform(test_input[:,-1].reshape(1,1))"
   ]
  },
  {
   "cell_type": "code",
   "execution_count": null,
   "id": "cb8030c4-18a2-4a93-8d1c-cb64cd43289e",
   "metadata": {},
   "outputs": [],
   "source": [
    "test_input_embarked"
   ]
  },
  {
   "cell_type": "code",
   "execution_count": null,
   "id": "f79b27d4-651b-400f-b315-84a6713460dc",
   "metadata": {},
   "outputs": [],
   "source": [
    "test_input_age = test_input[:,2].reshape(1,1)"
   ]
  },
  {
   "cell_type": "code",
   "execution_count": null,
   "id": "70980ec5-3f9f-4ab8-adbe-ea85fa138522",
   "metadata": {},
   "outputs": [],
   "source": [
    "test_input_transformed = np.concatenate((test_input[:,[0,3,4,5]],test_input_age,test_input_sex,test_input_embarked),axis=1)"
   ]
  },
  {
   "cell_type": "code",
   "execution_count": null,
   "id": "aa4d1c59-44e2-4773-a4d7-d2956e9556cb",
   "metadata": {},
   "outputs": [],
   "source": [
    "test_input_transformed.shape"
   ]
  },
  {
   "cell_type": "code",
   "execution_count": null,
   "id": "c7922324-b776-4474-b13f-f3239c6d3288",
   "metadata": {},
   "outputs": [],
   "source": [
    "clf.predict(test_input_transformed)"
   ]
  },
  {
   "cell_type": "code",
   "execution_count": null,
   "id": "4df83214-5880-475d-9a3c-794647cf2dea",
   "metadata": {},
   "outputs": [],
   "source": []
  },
  {
   "cell_type": "code",
   "execution_count": null,
   "id": "46b56456-5d5c-4cc4-8f6e-23750c4e0c23",
   "metadata": {},
   "outputs": [],
   "source": []
  }
 ],
 "metadata": {
  "kernelspec": {
   "display_name": "Python 3",
   "language": "python",
   "name": "python3"
  },
  "language_info": {
   "codemirror_mode": {
    "name": "ipython",
    "version": 3
   },
   "file_extension": ".py",
   "mimetype": "text/x-python",
   "name": "python",
   "nbconvert_exporter": "python",
   "pygments_lexer": "ipython3",
   "version": "3.11.2"
  },
  "vscode": {
   "interpreter": {
    "hash": "e18d32e78a9d1f6b5d41bcc9620a33cb0eb8a83172e9526f1e29732f1c151e0b"
   }
  }
 },
 "nbformat": 4,
 "nbformat_minor": 5
}

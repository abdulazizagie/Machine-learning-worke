{
 "cells": [
  {
   "attachments": {},
   "cell_type": "markdown",
   "metadata": {},
   "source": [
    "# Handling Missing Data"
   ]
  },
  {
   "attachments": {},
   "cell_type": "markdown",
   "metadata": {},
   "source": [
    "### Complete Case Analysis\n",
    "\n",
    "Complete-case anlysis (CCS) , also called \"list-wise deletion\" od cases, consists in discarding Row where values in any of the Columns are missing.\n",
    "\n",
    "Complet Case Analysis mean Literally analyzing only those observation for which there is information in all the variable in the datset."
   ]
  },
  {
   "attachments": {},
   "cell_type": "markdown",
   "metadata": {},
   "source": [
    "### Assumption For CCA\n",
    "\n",
    "1. your data is missing complete at random\n",
    "\n",
    "#### Advantage\n",
    "1. Easy to implement as no the data manipulation required\n",
    "2. Preseves variable distribution(if data is MCAR, then the distribution\n",
    "of the variable of the reduced dataset should match the distribution\n",
    "in the ordinal dataset)\n",
    "\n",
    "#### Disadvantage\n",
    "1. it can exclude a large fraction of the ordinal dataset(if missing data is abundant)\n",
    "2. Excluded observation could be informative for the analysis (if data is not missing at random)\n",
    "3. When using our model in production the model will not know how to handle missing data"
   ]
  },
  {
   "cell_type": "code",
   "execution_count": null,
   "metadata": {},
   "outputs": [],
   "source": [
    "import pandas as pd\n",
    "import matplotlib.pyplot as plt"
   ]
  },
  {
   "cell_type": "code",
   "execution_count": null,
   "metadata": {},
   "outputs": [],
   "source": [
    "df = pd.read_csv('data_science_job.csv')"
   ]
  },
  {
   "cell_type": "code",
   "execution_count": null,
   "metadata": {},
   "outputs": [],
   "source": [
    "df.head()"
   ]
  },
  {
   "cell_type": "code",
   "execution_count": null,
   "metadata": {},
   "outputs": [],
   "source": [
    "df.isnull().mean()*100"
   ]
  },
  {
   "cell_type": "code",
   "execution_count": null,
   "metadata": {},
   "outputs": [],
   "source": [
    "# Worke only on columns are you confrom is not null or  0.05 is worke only this columns\n",
    "cols = [ver for ver in df.columns if df[ver].isnull().mean() < 0.05 and df[ver].isnull().mean() >0]\n",
    "cols"
   ]
  },
  {
   "cell_type": "code",
   "execution_count": null,
   "metadata": {},
   "outputs": [],
   "source": [
    "df[cols].sample(5)"
   ]
  },
  {
   "cell_type": "code",
   "execution_count": null,
   "metadata": {},
   "outputs": [],
   "source": [
    "len(df[cols].dropna()) / len(df)"
   ]
  },
  {
   "cell_type": "code",
   "execution_count": null,
   "metadata": {},
   "outputs": [],
   "source": [
    "new_df = df[cols].dropna()\n",
    "df.shape,new_df.shape"
   ]
  },
  {
   "cell_type": "code",
   "execution_count": null,
   "metadata": {},
   "outputs": [],
   "source": [
    "new_df.hist(bins=50,density=True,figsize=(12 ,12))\n",
    "plt.show()"
   ]
  },
  {
   "cell_type": "code",
   "execution_count": null,
   "metadata": {},
   "outputs": [],
   "source": [
    "fig  = plt.figure()\n",
    "ax = fig.add_subplot(111)\n",
    "\n",
    "# ordinal data\n",
    "df['training_hours'].hist(bins=50,ax=ax,density=True,color='red')\n",
    "\n",
    "# data after cca , the argument makes the color transparent , so we can\n",
    "# see the averlay of the 2 distributions\n",
    "new_df['training_hours'].hist(bins=50 ,ax=ax , color='green',density=True,alpha=0.8)"
   ]
  },
  {
   "cell_type": "code",
   "execution_count": null,
   "metadata": {},
   "outputs": [],
   "source": [
    "fig = plt.figure()\n",
    "ax = fig.add_subplot(111)\n",
    "\n",
    "# ordinal data\n",
    "df['training_hours'].plot.density(color='red')\n",
    "\n",
    "# data after cca\n",
    "new_df[\"training_hours\"].plot.density(color='green')"
   ]
  },
  {
   "cell_type": "code",
   "execution_count": null,
   "metadata": {},
   "outputs": [],
   "source": [
    "fig = plt.figure()\n",
    "ax = fig.add_subplot(111)\n",
    "\n",
    "# ordinal data\n",
    "df['city_development_index'].hist(bins=50 , ax=ax , density=True , color='red')\n",
    "\n",
    "# data after cca, the argumnet alpha makes the color transparent , so we can\n",
    "# see the overlay of the 2 distributions\n",
    "new_df['city_development_index'].hist(bins=50 , ax=ax , color='green' , density=True,alpha=0.8)"
   ]
  },
  {
   "cell_type": "code",
   "execution_count": null,
   "metadata": {},
   "outputs": [],
   "source": [
    "fig = plt.figure()\n",
    "ax = fig.add_subplot(111)\n",
    "\n",
    "# ordinal data\n",
    "df['city_development_index'].plot.density(color='red')\n",
    "\n",
    "# data after cca\n",
    "new_df['city_development_index'].plot.density(color='green')"
   ]
  },
  {
   "cell_type": "code",
   "execution_count": null,
   "metadata": {},
   "outputs": [],
   "source": [
    "fig = plt.figure()\n",
    "ax = fig.add_subplot(111)\n",
    "\n",
    "# ordinal data\n",
    "df['experience'].hist(bins=50,ax=ax , density=True , color='red')\n",
    "\n",
    "# data after cca , the argument alpha makes the color transparent,so we can\n",
    "# see the averlay of the 2 distributions\n",
    "\n",
    "new_df['experience'].hist(bins=50,ax=ax , color='green' , density = True  , alpha=0.8)"
   ]
  },
  {
   "cell_type": "code",
   "execution_count": null,
   "metadata": {},
   "outputs": [],
   "source": [
    "fig = plt.figure()\n",
    "\n",
    "ax = fig.add_subplot(111)\n",
    "\n",
    "df['experience'].plot.density(color='red')\n",
    "new_df['experience'].plot.density(color='green')"
   ]
  },
  {
   "cell_type": "code",
   "execution_count": null,
   "metadata": {},
   "outputs": [],
   "source": [
    "temp = pd.concat([\n",
    "    # parcentage of abservation per category, ordinal data\n",
    "    df['enrolled_university'].value_counts() / len(df),\n",
    "    \n",
    "    # percentage of observation per category cca data\n",
    "    new_df['enrolled_university'].value_counts() / len(new_df)\n",
    "],axis=1)\n",
    "# add columns name\n",
    "temp.columns = ['original' , 'cca']\n",
    "\n",
    "temp"
   ]
  },
  {
   "cell_type": "code",
   "execution_count": null,
   "metadata": {},
   "outputs": [],
   "source": [
    "temp = pd.concat([\n",
    "    # percentage of abservation per catgory, ordinal data\n",
    "    df['education_level'].value_counts() / len(df),\n",
    "    \n",
    "    # percentage of observation per catgory cca data\n",
    "    new_df['education_level'].value_counts() / len(new_df)\n",
    "\n",
    "],axis=1)\n",
    "\n",
    "# add columns name\n",
    "temp.columns = ['ordinal' , 'cca']\n",
    "\n",
    "temp"
   ]
  },
  {
   "cell_type": "code",
   "execution_count": null,
   "metadata": {},
   "outputs": [],
   "source": []
  }
 ],
 "metadata": {
  "kernelspec": {
   "display_name": "Python 3",
   "language": "python",
   "name": "python3"
  },
  "language_info": {
   "codemirror_mode": {
    "name": "ipython",
    "version": 3
   },
   "file_extension": ".py",
   "mimetype": "text/x-python",
   "name": "python",
   "nbconvert_exporter": "python",
   "pygments_lexer": "ipython3",
   "version": "3.11.2"
  },
  "orig_nbformat": 4,
  "vscode": {
   "interpreter": {
    "hash": "75eef46696976f9d99545f8398d5cc026a55ac773bd21dca42ce1aa59af96408"
   }
  }
 },
 "nbformat": 4,
 "nbformat_minor": 2
}
